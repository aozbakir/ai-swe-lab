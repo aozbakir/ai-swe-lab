{
 "cells": [
  {
   "cell_type": "code",
   "execution_count": 1,
   "id": "c26cdbd3",
   "metadata": {},
   "outputs": [],
   "source": [
    "%load_ext autoreload\n",
    "%autoreload 2"
   ]
  },
  {
   "cell_type": "markdown",
   "id": "1ec86401",
   "metadata": {},
   "source": [
    "In this lab, we are going to build an interactive chatbot using a modular, object-oriented architecture designed around LLM (Large Language Model) utilities. The goal is not just to create a working chatbot, but to demonstrate how object-oriented design patterns, SOLID principles, and software architecture best practices can be applied in a real-world AI system. We’ll start by examining the UML class diagram, which outlines the key components of our system—such as the LLMFactory, the different LLMBuilder implementations, and the ConversationManager—and how they interact. Throughout the session, you’ll see how patterns like Factory, Builder, and Strategy work together to make the chatbot extensible and maintainable, while principles like Single Responsibility and Dependency Inversion ensure clean separation of concerns. By the end of the lab, you’ll understand not only how to instantiate and configure different language models (like OpenAI, LM Studio, or HuggingFace) through a unified interface, but also how thoughtful design choices lead to flexible and scalable software systems."
   ]
  },
  {
   "cell_type": "markdown",
   "id": "801ec725",
   "metadata": {},
   "source": [
    "## Lab Objectives\n",
    "- Apply key software design patterns (Factory, Builder, Strategy) in the context of AI applications\n",
    "- Recognize how design principles (SOLID, DRY) improve code maintainability and flexibility\n",
    "- Analyze the flow of data and control in a component-based architecture\n",
    "- Apply event-driven design concepts to manage conversation state"
   ]
  },
  {
   "cell_type": "markdown",
   "id": "543fc354",
   "metadata": {},
   "source": [
    "## Architectural notes:\n",
    "The architecture is layered because the system is organized into distinct levels of responsibility — from model creation (via factories and builders) to orchestration (conversation management) to execution (model invocation) and finally to the user interface. Each layer depends only on the one below it, promoting clear separation of concerns and easier maintainability.\n",
    "\n",
    "It is partially event-driven because the conversation flow — handled internally through LangGraph — reacts to state changes and transitions between nodes based on events, rather than following a strictly linear, procedural sequence. This event-driven behavior is localized within the conversation management layer, while the overall system structure remains layered."
   ]
  },
  {
   "cell_type": "markdown",
   "id": "85898821",
   "metadata": {},
   "source": []
  },
  {
   "cell_type": "markdown",
   "id": "f283025b",
   "metadata": {},
   "source": [
    "```mermaid\n",
    "classDiagram\n",
    "    %% Core Factory Implementation\n",
    "    class LLMFactory {\n",
    "        -Dict[str, LLMBuilder] _builders\n",
    "        +register_builder(name: str, builder: LLMBuilder) void\n",
    "        +get_builder(name: str) LLMBuilder\n",
    "        +create_from_yaml_file(config_path: Path) BaseChatModel\n",
    "        -_load_config(config_path: Path) Dict[str, Any]\n",
    "    }\n",
    "\n",
    "    %% Builder Pattern Implementation\n",
    "    class LLMBuilder {\n",
    "        <<abstract>>\n",
    "        +build(**kwargs) BaseChatModel\n",
    "    }\n",
    "\n",
    "    class OpenAILLMBuilder {\n",
    "        +build(model_name: str, api_key: str, **kwargs) ChatOpenAI\n",
    "        -_get_api_key_from_env(force_reload: bool) str\n",
    "    }\n",
    "\n",
    "    class LMStudioBuilder {\n",
    "        +build(model_name: str, base_url: str, **kwargs) ChatOpenAI\n",
    "    }\n",
    "\n",
    "    class HuggingFaceBuilder {\n",
    "        +build(model_name: str, **kwargs) HuggingFacePipeline\n",
    "    }\n",
    "\n",
    "    %% Conversation Management\n",
    "    class ConversationManager {\n",
    "        -BaseChatModel llm\n",
    "        -bool verbose\n",
    "        -str thread_id\n",
    "        -Dict config\n",
    "        -StateGraph graph\n",
    "        -Dict config_dict\n",
    "        +__init__(llm: BaseChatModel, config_path: Path, verbose: bool, thread_id: str)\n",
    "        +chat(message: str) str\n",
    "        +get_history() List[Dict[str, str]]\n",
    "        +reset() void\n",
    "        -_load_config(config_path: Path) void\n",
    "        -_build_graph() StateGraph\n",
    "        +from_yaml(llm: BaseChatModel, config_path: Path, verbose: bool, thread_id: str) ConversationManager\n",
    "    }\n",
    "\n",
    "    %% External LangChain Classes\n",
    "    class BaseChatModel {\n",
    "        <<interface>>\n",
    "        +invoke(messages: List) AIMessage\n",
    "    }\n",
    "\n",
    "    class StateGraph {\n",
    "        +add_node(name: str, func) void\n",
    "        +add_edge(source, target) void\n",
    "        +compile(checkpointer) Graph\n",
    "        +invoke(inputs: Dict, config: Dict) Dict\n",
    "    }\n",
    "\n",
    "    %% Language Model Implementations\n",
    "    class ChatOpenAI {\n",
    "        +invoke(messages: List) AIMessage\n",
    "    }\n",
    "\n",
    "    class HuggingFacePipeline {\n",
    "        +invoke(messages: List) AIMessage\n",
    "    }\n",
    "\n",
    "    %% Relationships\n",
    "    LLMBuilder <|-- OpenAILLMBuilder\n",
    "    LLMBuilder <|-- LMStudioBuilder\n",
    "    LLMBuilder <|-- HuggingFaceBuilder\n",
    "    \n",
    "    LLMFactory --> LLMBuilder : uses >\n",
    "    LLMFactory ..> BaseChatModel : creates >\n",
    "    \n",
    "    OpenAILLMBuilder ..> ChatOpenAI : creates >\n",
    "    LMStudioBuilder ..> ChatOpenAI : creates >\n",
    "    HuggingFaceBuilder ..> HuggingFacePipeline : creates >\n",
    "    \n",
    "    ChatOpenAI --|> BaseChatModel : implements\n",
    "    HuggingFacePipeline --|> BaseChatModel : implements\n",
    "    \n",
    "    ConversationManager o-- BaseChatModel : contains >\n",
    "    ConversationManager --> StateGraph : creates >\n",
    "    \n",
    "    %% Interactive Chat\n",
    "    class InteractiveChat {\n",
    "        +main() void\n",
    "    }\n",
    "    \n",
    "    InteractiveChat --> LLMFactory : uses >\n",
    "    InteractiveChat --> ConversationManager : uses >\n",
    "```"
   ]
  },
  {
   "cell_type": "markdown",
   "id": "4cd35b59",
   "metadata": {},
   "source": [
    "To better understand how the components interact in this architecture, let's follow the flow of what happens when a user wants to chat with an LMStudio-based local LLM:\n",
    "\n",
    "1. **Initialization Phase**:\n",
    "   - The application starts by loading configuration from YAML files:\n",
    "     - `config.yaml` contains model configurations for different LLM providers\n",
    "     - `conversation.yaml` defines memory and conversation parameters\n",
    "   \n",
    "   - `LLMFactory` is instantiated to create the appropriate LLM implementation\n",
    "   - The factory identifies \"lmstudio\" as the requested model type\n",
    "   - It retrieves the `LMStudioBuilder` from its registry of builders\n",
    "\n",
    "2. **Model Building Phase**:\n",
    "   - `LMStudioBuilder` is activated with configuration parameters:\n",
    "     - `model_name: \"qwen2.5-7b-instruct-1m\"`\n",
    "     - `base_url: \"http://127.0.0.1:1234/v1\"`\n",
    "     - `temperature: 0.0`\n",
    "   \n",
    "   - The builder validates the connection to the local LM Studio server\n",
    "   - It constructs a `ChatOpenAI` instance configured to communicate with the local server\n",
    "   - The builder returns this instance to the factory, which returns it to the client\n",
    "\n",
    "3. **Conversation Setup Phase**:\n",
    "   - `ConversationManager` is created with the LLM instance\n",
    "   - It loads conversation configuration (memory settings, etc.)\n",
    "   - It builds a LangGraph state graph for managing conversation flow\n",
    "   - Each node in the graph represents a processing stage for messages\n",
    "\n",
    "4. **Interaction Phase**:\n",
    "   - User sends a message via `chat(message)`\n",
    "   - The message is wrapped as a `HumanMessage` object\n",
    "   - The message enters the state graph as part of the conversation state\n",
    "   - The graph executes the `call_model` node, which:\n",
    "     - Applies memory management (trimming based on configured strategy)\n",
    "     - Invokes the LLM with the current message context\n",
    "     - Captures the response and adds it to the conversation state\n",
    "   - The response is extracted and returned to the user\n",
    "\n",
    "5. **Memory Management**:\n",
    "   - Throughout this process, the `ConversationManager` maintains conversation history\n",
    "   - Messages are trimmed according to the configured strategy (e.g., keeping last N messages)\n",
    "   - The conversation state is preserved for subsequent interactions\n",
    "   - Users can retrieve the full conversation history or reset it as needed"
   ]
  },
  {
   "cell_type": "code",
   "execution_count": 2,
   "id": "34587ae7",
   "metadata": {},
   "outputs": [
    {
     "name": "stderr",
     "output_type": "stream",
     "text": [
      "d:\\conda\\envs\\im2203\\lib\\site-packages\\tqdm\\auto.py:21: TqdmWarning: IProgress not found. Please update jupyter and ipywidgets. See https://ipywidgets.readthedocs.io/en/stable/user_install.html\n",
      "  from .autonotebook import tqdm as notebook_tqdm\n"
     ]
    }
   ],
   "source": [
    "import yaml\n",
    "from pathlib import Path\n",
    "\n",
    "from im2203.llm_utils.factory import LLMFactory\n",
    "from im2203.llm_utils.chat import ConversationManager\n"
   ]
  },
  {
   "cell_type": "code",
   "execution_count": 3,
   "id": "c6c8983a",
   "metadata": {},
   "outputs": [],
   "source": [
    "# Create the LLM factory\n",
    "llm_factory = LLMFactory()\n",
    "\n",
    "# Load LM Studio config\n",
    "lms_config = Path(\"../configs/config.yaml\")\n",
    "chat_config = Path(\"../configs/conversation.yaml\")\n",
    "\n"
   ]
  },
  {
   "cell_type": "code",
   "execution_count": 4,
   "id": "fcffcd74",
   "metadata": {},
   "outputs": [
    {
     "name": "stdout",
     "output_type": "stream",
     "text": [
      "{\n",
      "  \"default_model\": \"openai\",\n",
      "  \"models\": {\n",
      "    \"openai\": {\n",
      "      \"name\": \"openai\",\n",
      "      \"model_name\": \"gpt-3.5-turbo\",\n",
      "      \"base_url\": null,\n",
      "      \"temperature\": 0.0\n",
      "    },\n",
      "    \"lmstudio\": {\n",
      "      \"name\": \"lmstudio\",\n",
      "      \"model_name\": \"qwen2.5-7b-instruct-1m\",\n",
      "      \"base_url\": \"http://127.0.0.1:1234/v1\",\n",
      "      \"temperature\": 0.0\n",
      "    },\n",
      "    \"huggingface\": {\n",
      "      \"name\": \"huggingface\",\n",
      "      \"model_name\": \"meta-llama/Llama-2-7b-chat-hf\",\n",
      "      \"temperature\": 0.3,\n",
      "      \"quantize_4bit\": false,\n",
      "      \"max_new_tokens\": 500,\n",
      "      \"top_k\": 50,\n",
      "      \"top_p\": 0.95\n",
      "    }\n",
      "  }\n",
      "}\n"
     ]
    }
   ],
   "source": [
    "import json\n",
    "# dump the contents of lms_config:\n",
    "with open(lms_config, \"r\") as f:\n",
    "    lms_config_dict = yaml.safe_load(f)\n",
    "\n",
    "# print the config dict in json nested format\n",
    "print(json.dumps(lms_config_dict, indent=2))"
   ]
  },
  {
   "cell_type": "code",
   "execution_count": 5,
   "id": "5fdf3fc9",
   "metadata": {},
   "outputs": [
    {
     "name": "stdout",
     "output_type": "stream",
     "text": [
      "D:\\Repos2\\.env\n",
      "Loading API key from: D:\\Repos2\\.env\n",
      "Using API key: sk-pr...JXMkA\n"
     ]
    }
   ],
   "source": [
    "llm = llm_factory.create_from_yaml_file(lms_config)\n"
   ]
  },
  {
   "cell_type": "code",
   "execution_count": 6,
   "id": "857431d2",
   "metadata": {},
   "outputs": [],
   "source": [
    "chat = ConversationManager(llm=llm, config_path=chat_config, verbose=True)"
   ]
  },
  {
   "cell_type": "code",
   "execution_count": 7,
   "id": "3c3cdbcb",
   "metadata": {},
   "outputs": [
    {
     "name": "stdout",
     "output_type": "stream",
     "text": [
      "🔍 Trimmed to 1 messages\n",
      "  - HumanMessage: message=1\n",
      "🔍 Trimmed to 3 messages\n",
      "  - HumanMessage: message=1\n",
      "  - AIMessage: Hello! How can I assist you today?\n",
      "  - HumanMessage: message=2\n",
      "🔍 Trimmed to 3 messages\n",
      "  - HumanMessage: message=2\n",
      "  - AIMessage: I'm here to help! What do you need assistance with?\n",
      "  - HumanMessage: message=3\n",
      "🔍 Trimmed to 3 messages\n",
      "  - HumanMessage: message=3\n",
      "  - AIMessage: How can I assist you today?\n",
      "  - HumanMessage: message=4\n"
     ]
    },
    {
     "data": {
      "text/plain": [
       "\"I'm here to help! What do you need assistance with?\""
      ]
     },
     "execution_count": 7,
     "metadata": {},
     "output_type": "execute_result"
    }
   ],
   "source": [
    "chat.chat(\"message=1\")\n",
    "chat.chat(\"message=2\")\n",
    "chat.chat(\"message=3\")\n",
    "chat.chat(\"message=4\")"
   ]
  },
  {
   "cell_type": "code",
   "execution_count": 8,
   "id": "53196872",
   "metadata": {},
   "outputs": [
    {
     "data": {
      "text/plain": [
       "[{'role': 'user', 'content': 'message=1'},\n",
       " {'role': 'assistant', 'content': 'Hello! How can I assist you today?'},\n",
       " {'role': 'user', 'content': 'message=2'},\n",
       " {'role': 'assistant',\n",
       "  'content': \"I'm here to help! What do you need assistance with?\"},\n",
       " {'role': 'user', 'content': 'message=3'},\n",
       " {'role': 'assistant', 'content': 'How can I assist you today?'},\n",
       " {'role': 'user', 'content': 'message=4'},\n",
       " {'role': 'assistant',\n",
       "  'content': \"I'm here to help! What do you need assistance with?\"}]"
      ]
     },
     "execution_count": 8,
     "metadata": {},
     "output_type": "execute_result"
    }
   ],
   "source": [
    "chat.get_history()"
   ]
  },
  {
   "cell_type": "markdown",
   "id": "097a4762",
   "metadata": {},
   "source": [
    "Now that everything is working let's run the interactive chat from the terminal"
   ]
  },
  {
   "cell_type": "markdown",
   "id": "0de030cd",
   "metadata": {},
   "source": []
  },
  {
   "cell_type": "markdown",
   "id": "b84491fb",
   "metadata": {},
   "source": [
    "## And let's finally plug-in a simple RAG"
   ]
  },
  {
   "cell_type": "code",
   "execution_count": 9,
   "id": "826acc34",
   "metadata": {},
   "outputs": [],
   "source": [
    "from im2203.llm_utils.rag.prompt import PromptConstructor\n",
    "from im2203.llm_utils.rag.vectorstore import VectorStore\n",
    "from im2203.llm_utils.rag.retriever import Retriever\n",
    " \n"
   ]
  },
  {
   "cell_type": "code",
   "execution_count": 10,
   "id": "976dc07c",
   "metadata": {},
   "outputs": [],
   "source": [
    "doc_pdfpath = Path(\"D:/Repos2/im2203/docs/OJ_L_202401689_EN_TXT.pdf\")\n",
    "store_path = Path(\"D:/Repos2/im2203/vector_store_rag_lab\")\n"
   ]
  },
  {
   "cell_type": "code",
   "execution_count": 16,
   "id": "97a13a4d",
   "metadata": {},
   "outputs": [
    {
     "name": "stdout",
     "output_type": "stream",
     "text": [
      "Vector store loaded from D:\\Repos2\\im2203\\vector_store_rag_lab\n"
     ]
    }
   ],
   "source": [
    "vector_store = VectorStore(store_path=str(store_path))\n",
    "vector_store.load()\n",
    "retriever = Retriever(vectorstore=vector_store.vectorstore)\n",
    "prompt_constructor = PromptConstructor()\n"
   ]
  },
  {
   "cell_type": "code",
   "execution_count": 12,
   "id": "3a80bdee",
   "metadata": {},
   "outputs": [],
   "source": [
    "query = \"How is AI defined in the EU AI Act?\"\n",
    "retrieved_docs, _ = retriever.retrieve_similar(query, k=3)\n"
   ]
  },
  {
   "cell_type": "code",
   "execution_count": 13,
   "id": "5558ead0",
   "metadata": {},
   "outputs": [
    {
     "data": {
      "text/plain": [
       "[Document(id='38e1b6d6-b658-4c74-ba34-24dbca6afa29', metadata={'producer': 'PDFlib+PDI 9.0.7p3 (C++/Win64)', 'creator': 'Servigistics Arbortext Publishing Engine', 'creationdate': '2024-07-11T14:47:17+02:00', 'author': 'Publications Office of the European Union L-2985 Luxembourg LUXEMBOURG', 'keywords': 'ISSN 1977-0677', 'moddate': '2024-07-11T15:55:28+02:00', 'subject': 'I Legislative acts', 'title': 'Regulation (EU) 2024/1689 of the European Parliament and of the Council of 13 June 2024 laying down harmonised rules on artificial intelligence and amending Regulations (EC) No 300/2008, (EU) No 167/2013, (EU) No 168/2013, (EU) 2018/858, (EU) 2018/1139 and (EU) 2019/2144 and Directives 2014/90/EU, (EU) 2016/797 and (EU) 2020/1828 (Artificial Intelligence Act)Text with EEA relevance.', 'source': 'D:\\\\Repos2\\\\im2203\\\\docs\\\\OJ_L_202401689_EN_TXT.pdf', 'total_pages': 144, 'page': 35, 'page_label': '36'}, page_content='are put in place in accordance with \\nUni on law , suc h as Regulations (EU) 2022/868 (\\n42\\n) and (EU) 2023/2854 (\\n43\\n) of the European Parliame nt and of the \\nCouncil.\\n(142) T o ensure that AI leads t o socially and environmentally beneficial outcomes, Member Stat es are encouraged to \\nsuppor t and promote research and development of AI solutions in suppor t of socially and envir onmentally \\nbeneficial outcomes, suc h as AI-based solutions to increase accessibility f or persons with disabilities,'),\n",
       " Document(id='c739b199-85bf-4f65-83fe-9f0cf49039da', metadata={'producer': 'PDFlib+PDI 9.0.7p3 (C++/Win64)', 'creator': 'Servigistics Arbortext Publishing Engine', 'creationdate': '2024-07-11T14:47:17+02:00', 'author': 'Publications Office of the European Union L-2985 Luxembourg LUXEMBOURG', 'keywords': 'ISSN 1977-0677', 'moddate': '2024-07-11T15:55:28+02:00', 'subject': 'I Legislative acts', 'title': 'Regulation (EU) 2024/1689 of the European Parliament and of the Council of 13 June 2024 laying down harmonised rules on artificial intelligence and amending Regulations (EC) No 300/2008, (EU) No 167/2013, (EU) No 168/2013, (EU) 2018/858, (EU) 2018/1139 and (EU) 2019/2144 and Directives 2014/90/EU, (EU) 2016/797 and (EU) 2020/1828 (Artificial Intelligence Act)Text with EEA relevance.', 'source': 'D:\\\\Repos2\\\\im2203\\\\docs\\\\OJ_L_202401689_EN_TXT.pdf', 'total_pages': 144, 'page': 1, 'page_label': '2'}, page_content='ticle 16 TFEU, it is appropr iate to consult the European Data Protection \\nBoard.\\n(4) AI is a f ast ev olving f amily of t echnologies that contr ibut es to a wide ar ra y of economic, environmental and societal \\nbenefits across the entire spectr um of industr ies and social activities. By imp roving prediction, optimising operations \\nand resource allocation, and personalising digital solutions ava ilable f or individuals and org anisations, the use of AI \\ncan provide k ey comp etitive'),\n",
       " Document(id='90df8fd3-b68f-44a6-99c7-3af5ae39fd35', metadata={'producer': 'PDFlib+PDI 9.0.7p3 (C++/Win64)', 'creator': 'Servigistics Arbortext Publishing Engine', 'creationdate': '2024-07-11T14:47:17+02:00', 'author': 'Publications Office of the European Union L-2985 Luxembourg LUXEMBOURG', 'keywords': 'ISSN 1977-0677', 'moddate': '2024-07-11T15:55:28+02:00', 'subject': 'I Legislative acts', 'title': 'Regulation (EU) 2024/1689 of the European Parliament and of the Council of 13 June 2024 laying down harmonised rules on artificial intelligence and amending Regulations (EC) No 300/2008, (EU) No 167/2013, (EU) No 168/2013, (EU) 2018/858, (EU) 2018/1139 and (EU) 2019/2144 and Directives 2014/90/EU, (EU) 2016/797 and (EU) 2020/1828 (Artificial Intelligence Act)Text with EEA relevance.', 'source': 'D:\\\\Repos2\\\\im2203\\\\docs\\\\OJ_L_202401689_EN_TXT.pdf', 'total_pages': 144, 'page': 1, 'page_label': '2'}, page_content='into account the European Declaration on Digital Rights and Pr inciples f or the Digital Decade and the \\nEthics guidelines f or tr ustw or th y AI of the High-Level Exper t Group on Ar tif icial Intellig ence (AI HLEG).\\n(8) A Union lega l framew ork la ying do wn har monised r ules on AI is theref ore needed to f oster the development, use \\nand up take of AI in the inter nal marke t that at the same time meets a high level of protect ion of public interests, such \\nas health and saf ety and the')]"
      ]
     },
     "execution_count": 13,
     "metadata": {},
     "output_type": "execute_result"
    }
   ],
   "source": [
    "retrieved_docs"
   ]
  },
  {
   "cell_type": "code",
   "execution_count": 14,
   "id": "1a78e546",
   "metadata": {},
   "outputs": [],
   "source": [
    "class RAGChat:\n",
    "    def __init__(self, llm, retriever=None, prompt_constructor=None, k=3):\n",
    "        \"\"\"\n",
    "        Chat interface for standard and RAG-augmented chat.\n",
    "        Args:\n",
    "            llm (LLM): Language model instance.\n",
    "            retriever (Retriever): Retriever instance for RAG.\n",
    "            prompt_constructor (PromptConstructor): PromptConstructor for RAG.\n",
    "            k (int): Number of docs to retrieve for RAG.\n",
    "            use_rag (bool): If True, use RAG; else, standard chat.\n",
    "        \"\"\"\n",
    "        self.llm = llm\n",
    "        self.retriever = retriever\n",
    "        self.prompt_constructor = prompt_constructor\n",
    "        self.k = k\n",
    "\n",
    "    def chat(self, query):\n",
    "            retrieved_docs, faiss_ids = self.retriever.retrieve_similar(query, k=self.k)\n",
    "            rag_prompt = self.prompt_constructor.build_prompt(query, retrieved_docs)\n",
    "            response = self.llm.chat(rag_prompt)\n",
    "            return response, faiss_ids"
   ]
  },
  {
   "cell_type": "code",
   "execution_count": 17,
   "id": "07360aed",
   "metadata": {},
   "outputs": [
    {
     "name": "stdout",
     "output_type": "stream",
     "text": [
      "🔍 Trimmed to 1 messages\n",
      "  - HumanMessage: \n",
      "You are an AI assistant implementing pure RAG (Retrieval-Augmented Generation) for questions about the EU AI Act.\n",
      "\n",
      "IMPORTANT INSTRUCTIONS:\n",
      "1. ONLY answer based on the document context provided with each question\n",
      "2. If the information needed to answer the question is NOT found in the provided context, respond with \"I don't know. The necessary information is not found in the provided context.\"\n",
      "3. DO NOT use prior knowledge about the EU AI Act outside of the provided context\n",
      "4. DO NOT make up or infer information that isn't explicitly stated in the context\n",
      "5. ALWAYS cite your sources by referring to document numbers [1], [2], or [3] for each piece of information\n",
      "6. When possible, refer to specific Articles, Chapters, or Sections as mentioned in the reference information\n",
      "7. Format citations like: \"According to Document [1], Article 28 states that...\"\n",
      "8. Focus only on the current question and context, not on previous exchanges\n",
      "\n",
      "Your answers must be fully grounded in the retrieved document context with explicit citations.\n",
      "\n",
      "Context:\n",
      "are put in place in accordance with \n",
      "Uni on law , suc h as Regulations (EU) 2022/868 (\n",
      "42\n",
      ") and (EU) 2023/2854 (\n",
      "43\n",
      ") of the European Parliame nt and of the \n",
      "Council.\n",
      "(142) T o ensure that AI leads t o socially and environmentally beneficial outcomes, Member Stat es are encouraged to \n",
      "suppor t and promote research and development of AI solutions in suppor t of socially and envir onmentally \n",
      "beneficial outcomes, suc h as AI-based solutions to increase accessibility f or persons with disabilities,\n",
      "\n",
      "ticle 16 TFEU, it is appropr iate to consult the European Data Protection \n",
      "Board.\n",
      "(4) AI is a f ast ev olving f amily of t echnologies that contr ibut es to a wide ar ra y of economic, environmental and societal \n",
      "benefits across the entire spectr um of industr ies and social activities. By imp roving prediction, optimising operations \n",
      "and resource allocation, and personalising digital solutions ava ilable f or individuals and org anisations, the use of AI \n",
      "can provide k ey comp etitive\n",
      "\n",
      "into account the European Declaration on Digital Rights and Pr inciples f or the Digital Decade and the \n",
      "Ethics guidelines f or tr ustw or th y AI of the High-Level Exper t Group on Ar tif icial Intellig ence (AI HLEG).\n",
      "(8) A Union lega l framew ork la ying do wn har monised r ules on AI is theref ore needed to f oster the development, use \n",
      "and up take of AI in the inter nal marke t that at the same time meets a high level of protect ion of public interests, such \n",
      "as health and saf ety and the\n",
      "\n",
      "taken into account. \n",
      "(*) Regulation (EU) 2024/1689 of the European Parliament and of the Council of 13 June 2024 la ying down har monised \n",
      "r ules on ar tif icial intellig ence and amending Regulations (EC) No 300/2008, (EU) No 167/2013, (EU) No 168/2013, \n",
      "(EU) 2018/858, (EU) 2018/1139 and (EU) 2019/2144 and Directives 2014/90/EU, (EU) 2016/797 and (EU) \n",
      "2020/1828 (Ar tificial Inte lligence A ct) (OJ L, 2024/1689, 12.7.2024, ELI: http://data.europa.eu/eli/reg/ \n",
      "2024/1689/oj).’ .\n",
      "Ar ticle\n",
      "\n",
      "that Regulation shall be taken into account. \n",
      "(*) Regulation (EU) 2024/1689 of the European Parliament and of the Council of 13 June 2024 la ying down har monised \n",
      "r ules on ar tif icial intellig ence and amending Regulations (EC) No 300/2008, (EU) No 167/2013, (EU) No 168/2013, \n",
      "(EU) 2018/858, (EU) 2018/1139 and (EU) 2019/2144 and Directives 2014/90/EU, (EU) 2016/797 and (EU) \n",
      "2020/1828 (Ar tificial Inte lligence A ct) (OJ L, 2024/1689, 12.7.2024, ELI: http://data.europa.eu/eli/reg/\n",
      "\n",
      "Question: How is AI defined under the EU AI Act?\n",
      "\n",
      "Answer:\n",
      "According to the document, AI is described as a fast-evolving family of technologies that contributes to a wide array of economic, environmental, and societal benefits across industries and social activities. It improves prediction, optimizes operations and resource allocation, and personalizes digital solutions for individuals and organizations [3].\n",
      "Retrieved chunk indices: ['38e1b6d6-b658-4c74-ba34-24dbca6afa29', 'c739b199-85bf-4f65-83fe-9f0cf49039da', '90df8fd3-b68f-44a6-99c7-3af5ae39fd35', '8fd2f76f-c49d-440a-b184-6dc247f6ed67', '0843177b-e04b-4916-a3e6-21cd121d19a1']\n"
     ]
    }
   ],
   "source": [
    "# For RAG-augmented chat\n",
    "chat.reset()\n",
    "rag_chat = RAGChat(chat, retriever, prompt_constructor, k=5)\n",
    "response, chunk_indices = rag_chat.chat(\"How is AI defined under the EU AI Act?\")\n",
    "print(response)\n",
    "print(\"Retrieved chunk indices:\", chunk_indices)\n"
   ]
  },
  {
   "cell_type": "code",
   "execution_count": 18,
   "id": "ac065254",
   "metadata": {},
   "outputs": [
    {
     "name": "stdout",
     "output_type": "stream",
     "text": [
      "🔍 Trimmed to 3 messages\n",
      "  - HumanMessage: \n",
      "You are an AI assistant implementing pure RAG (Retrieval-Augmented Generation) for questions about the EU AI Act.\n",
      "\n",
      "IMPORTANT INSTRUCTIONS:\n",
      "1. ONLY answer based on the document context provided with each question\n",
      "2. If the information needed to answer the question is NOT found in the provided context, respond with \"I don't know. The necessary information is not found in the provided context.\"\n",
      "3. DO NOT use prior knowledge about the EU AI Act outside of the provided context\n",
      "4. DO NOT make up or infer information that isn't explicitly stated in the context\n",
      "5. ALWAYS cite your sources by referring to document numbers [1], [2], or [3] for each piece of information\n",
      "6. When possible, refer to specific Articles, Chapters, or Sections as mentioned in the reference information\n",
      "7. Format citations like: \"According to Document [1], Article 28 states that...\"\n",
      "8. Focus only on the current question and context, not on previous exchanges\n",
      "\n",
      "Your answers must be fully grounded in the retrieved document context with explicit citations.\n",
      "\n",
      "Context:\n",
      "are put in place in accordance with \n",
      "Uni on law , suc h as Regulations (EU) 2022/868 (\n",
      "42\n",
      ") and (EU) 2023/2854 (\n",
      "43\n",
      ") of the European Parliame nt and of the \n",
      "Council.\n",
      "(142) T o ensure that AI leads t o socially and environmentally beneficial outcomes, Member Stat es are encouraged to \n",
      "suppor t and promote research and development of AI solutions in suppor t of socially and envir onmentally \n",
      "beneficial outcomes, suc h as AI-based solutions to increase accessibility f or persons with disabilities,\n",
      "\n",
      "ticle 16 TFEU, it is appropr iate to consult the European Data Protection \n",
      "Board.\n",
      "(4) AI is a f ast ev olving f amily of t echnologies that contr ibut es to a wide ar ra y of economic, environmental and societal \n",
      "benefits across the entire spectr um of industr ies and social activities. By imp roving prediction, optimising operations \n",
      "and resource allocation, and personalising digital solutions ava ilable f or individuals and org anisations, the use of AI \n",
      "can provide k ey comp etitive\n",
      "\n",
      "into account the European Declaration on Digital Rights and Pr inciples f or the Digital Decade and the \n",
      "Ethics guidelines f or tr ustw or th y AI of the High-Level Exper t Group on Ar tif icial Intellig ence (AI HLEG).\n",
      "(8) A Union lega l framew ork la ying do wn har monised r ules on AI is theref ore needed to f oster the development, use \n",
      "and up take of AI in the inter nal marke t that at the same time meets a high level of protect ion of public interests, such \n",
      "as health and saf ety and the\n",
      "\n",
      "taken into account. \n",
      "(*) Regulation (EU) 2024/1689 of the European Parliament and of the Council of 13 June 2024 la ying down har monised \n",
      "r ules on ar tif icial intellig ence and amending Regulations (EC) No 300/2008, (EU) No 167/2013, (EU) No 168/2013, \n",
      "(EU) 2018/858, (EU) 2018/1139 and (EU) 2019/2144 and Directives 2014/90/EU, (EU) 2016/797 and (EU) \n",
      "2020/1828 (Ar tificial Inte lligence A ct) (OJ L, 2024/1689, 12.7.2024, ELI: http://data.europa.eu/eli/reg/ \n",
      "2024/1689/oj).’ .\n",
      "Ar ticle\n",
      "\n",
      "that Regulation shall be taken into account. \n",
      "(*) Regulation (EU) 2024/1689 of the European Parliament and of the Council of 13 June 2024 la ying down har monised \n",
      "r ules on ar tif icial intellig ence and amending Regulations (EC) No 300/2008, (EU) No 167/2013, (EU) No 168/2013, \n",
      "(EU) 2018/858, (EU) 2018/1139 and (EU) 2019/2144 and Directives 2014/90/EU, (EU) 2016/797 and (EU) \n",
      "2020/1828 (Ar tificial Inte lligence A ct) (OJ L, 2024/1689, 12.7.2024, ELI: http://data.europa.eu/eli/reg/\n",
      "\n",
      "Question: How is AI defined under the EU AI Act?\n",
      "\n",
      "Answer:\n",
      "  - AIMessage: According to the document, AI is described as a fast-evolving family of technologies that contributes to a wide array of economic, environmental, and societal benefits across industries and social activities. It improves prediction, optimizes operations and resource allocation, and personalizes digital solutions for individuals and organizations [3].\n",
      "  - HumanMessage: \n",
      "You are an AI assistant implementing pure RAG (Retrieval-Augmented Generation) for questions about the EU AI Act.\n",
      "\n",
      "IMPORTANT INSTRUCTIONS:\n",
      "1. ONLY answer based on the document context provided with each question\n",
      "2. If the information needed to answer the question is NOT found in the provided context, respond with \"I don't know. The necessary information is not found in the provided context.\"\n",
      "3. DO NOT use prior knowledge about the EU AI Act outside of the provided context\n",
      "4. DO NOT make up or infer information that isn't explicitly stated in the context\n",
      "5. ALWAYS cite your sources by referring to document numbers [1], [2], or [3] for each piece of information\n",
      "6. When possible, refer to specific Articles, Chapters, or Sections as mentioned in the reference information\n",
      "7. Format citations like: \"According to Document [1], Article 28 states that...\"\n",
      "8. Focus only on the current question and context, not on previous exchanges\n",
      "\n",
      "Your answers must be fully grounded in the retrieved document context with explicit citations.\n",
      "\n",
      "Context:\n",
      "ticle 16 TFEU, it is appropr iate to consult the European Data Protection \n",
      "Board.\n",
      "(4) AI is a f ast ev olving f amily of t echnologies that contr ibut es to a wide ar ra y of economic, environmental and societal \n",
      "benefits across the entire spectr um of industr ies and social activities. By imp roving prediction, optimising operations \n",
      "and resource allocation, and personalising digital solutions ava ilable f or individuals and org anisations, the use of AI \n",
      "can provide k ey comp etitive\n",
      "\n",
      "AI systems, as well as to g ain awareness about the oppor tunities and r isks of AI and possible har m it can cause;\n",
      "OJ L, 12.7.2024\n",
      "EN\n",
      "ELI: http://data.europa.eu/eli/reg/2024/1689/oj 49/144\n",
      "\n",
      "of fundamental r ights.\n",
      "(119) Consider ing the quick pace of inno vation and the te chnologi cal evolution of digital ser vices in scope of different \n",
      "instr uments of Uni on law in par ticular hav ing in mind the usage and the percep tion of their recipients, the AI \n",
      "syste ms subject to this Regulation ma y be provid ed as interm ediar y ser vices or par ts thereof within the meaning of \n",
      "Regulation (EU) 2022/2065, which should be inter prete d in a te chnology-neutral manner . For exam ple, AI\n",
      "\n",
      "into account the European Declaration on Digital Rights and Pr inciples f or the Digital Decade and the \n",
      "Ethics guidelines f or tr ustw or th y AI of the High-Level Exper t Group on Ar tif icial Intellig ence (AI HLEG).\n",
      "(8) A Union lega l framew ork la ying do wn har monised r ules on AI is theref ore needed to f oster the development, use \n",
      "and up take of AI in the inter nal marke t that at the same time meets a high level of protect ion of public interests, such \n",
      "as health and saf ety and the\n",
      "\n",
      "and review \n",
      "exper ience gained from the use of AI systems they place on the marke t or put into ser vice f or the pur pose of \n",
      "identifying any need to immediate ly apply any necessar y cor rective or preventive actions;\n",
      "(26) ‘marke t sur veillance author ity’ means the national author ity car r ying out the activities and taking the measures \n",
      "pursuant to Regulation (EU) 2019/1020;\n",
      "OJ L, 12.7.2024\n",
      "EN\n",
      "ELI: http://data.europa.eu/eli/reg/2024/1689/oj 47/144\n",
      "\n",
      "Question: Is a sentiment analysis tool considered an AI under the EU AI Act?\n",
      "\n",
      "Answer:\n",
      "(\"I don't know. The necessary information is not found in the provided context.\", ['c739b199-85bf-4f65-83fe-9f0cf49039da', 'df37e9dc-fb3b-4d79-8421-9c8dce7ee4ea', 'f34f87f0-0640-4b10-8544-c0e20f6f229f', '90df8fd3-b68f-44a6-99c7-3af5ae39fd35', '9d9b829a-2e6d-4b32-b1aa-ad4580cc7e7d'])\n"
     ]
    }
   ],
   "source": [
    "response = rag_chat.chat(\"Is a sentiment analysis tool considered an AI under the EU AI Act?\")\n",
    "print(response)"
   ]
  },
  {
   "cell_type": "code",
   "execution_count": 19,
   "id": "7ff4380e",
   "metadata": {},
   "outputs": [
    {
     "data": {
      "text/plain": [
       "[{'role': 'user',\n",
       "  'content': '\\nYou are an AI assistant implementing pure RAG (Retrieval-Augmented Generation) for questions about the EU AI Act.\\n\\nIMPORTANT INSTRUCTIONS:\\n1. ONLY answer based on the document context provided with each question\\n2. If the information needed to answer the question is NOT found in the provided context, respond with \"I don\\'t know. The necessary information is not found in the provided context.\"\\n3. DO NOT use prior knowledge about the EU AI Act outside of the provided context\\n4. DO NOT make up or infer information that isn\\'t explicitly stated in the context\\n5. ALWAYS cite your sources by referring to document numbers [1], [2], or [3] for each piece of information\\n6. When possible, refer to specific Articles, Chapters, or Sections as mentioned in the reference information\\n7. Format citations like: \"According to Document [1], Article 28 states that...\"\\n8. Focus only on the current question and context, not on previous exchanges\\n\\nYour answers must be fully grounded in the retrieved document context with explicit citations.\\n\\nContext:\\nare put in place in accordance with \\nUni on law , suc h as Regulations (EU) 2022/868 (\\n42\\n) and (EU) 2023/2854 (\\n43\\n) of the European Parliame nt and of the \\nCouncil.\\n(142) T o ensure that AI leads t o socially and environmentally beneficial outcomes, Member Stat es are encouraged to \\nsuppor t and promote research and development of AI solutions in suppor t of socially and envir onmentally \\nbeneficial outcomes, suc h as AI-based solutions to increase accessibility f or persons with disabilities,\\n\\nticle 16 TFEU, it is appropr iate to consult the European Data Protection \\nBoard.\\n(4) AI is a f ast ev olving f amily of t echnologies that contr ibut es to a wide ar ra y of economic, environmental and societal \\nbenefits across the entire spectr um of industr ies and social activities. By imp roving prediction, optimising operations \\nand resource allocation, and personalising digital solutions ava ilable f or individuals and org anisations, the use of AI \\ncan provide k ey comp etitive\\n\\ninto account the European Declaration on Digital Rights and Pr inciples f or the Digital Decade and the \\nEthics guidelines f or tr ustw or th y AI of the High-Level Exper t Group on Ar tif icial Intellig ence (AI HLEG).\\n(8) A Union lega l framew ork la ying do wn har monised r ules on AI is theref ore needed to f oster the development, use \\nand up take of AI in the inter nal marke t that at the same time meets a high level of protect ion of public interests, such \\nas health and saf ety and the\\n\\ntaken into account. \\n(*) Regulation (EU) 2024/1689 of the European Parliament and of the Council of 13 June 2024 la ying down har monised \\nr ules on ar tif icial intellig ence and amending Regulations (EC) No 300/2008, (EU) No 167/2013, (EU) No 168/2013, \\n(EU) 2018/858, (EU) 2018/1139 and (EU) 2019/2144 and Directives 2014/90/EU, (EU) 2016/797 and (EU) \\n2020/1828 (Ar tificial Inte lligence A ct) (OJ L, 2024/1689, 12.7.2024, ELI: http://data.europa.eu/eli/reg/ \\n2024/1689/oj).’ .\\nAr ticle\\n\\nthat Regulation shall be taken into account. \\n(*) Regulation (EU) 2024/1689 of the European Parliament and of the Council of 13 June 2024 la ying down har monised \\nr ules on ar tif icial intellig ence and amending Regulations (EC) No 300/2008, (EU) No 167/2013, (EU) No 168/2013, \\n(EU) 2018/858, (EU) 2018/1139 and (EU) 2019/2144 and Directives 2014/90/EU, (EU) 2016/797 and (EU) \\n2020/1828 (Ar tificial Inte lligence A ct) (OJ L, 2024/1689, 12.7.2024, ELI: http://data.europa.eu/eli/reg/\\n\\nQuestion: How is AI defined under the EU AI Act?\\n\\nAnswer:'},\n",
       " {'role': 'assistant',\n",
       "  'content': 'According to the document, AI is described as a fast-evolving family of technologies that contributes to a wide array of economic, environmental, and societal benefits across industries and social activities. It improves prediction, optimizes operations and resource allocation, and personalizes digital solutions for individuals and organizations [3].'},\n",
       " {'role': 'user',\n",
       "  'content': '\\nYou are an AI assistant implementing pure RAG (Retrieval-Augmented Generation) for questions about the EU AI Act.\\n\\nIMPORTANT INSTRUCTIONS:\\n1. ONLY answer based on the document context provided with each question\\n2. If the information needed to answer the question is NOT found in the provided context, respond with \"I don\\'t know. The necessary information is not found in the provided context.\"\\n3. DO NOT use prior knowledge about the EU AI Act outside of the provided context\\n4. DO NOT make up or infer information that isn\\'t explicitly stated in the context\\n5. ALWAYS cite your sources by referring to document numbers [1], [2], or [3] for each piece of information\\n6. When possible, refer to specific Articles, Chapters, or Sections as mentioned in the reference information\\n7. Format citations like: \"According to Document [1], Article 28 states that...\"\\n8. Focus only on the current question and context, not on previous exchanges\\n\\nYour answers must be fully grounded in the retrieved document context with explicit citations.\\n\\nContext:\\nticle 16 TFEU, it is appropr iate to consult the European Data Protection \\nBoard.\\n(4) AI is a f ast ev olving f amily of t echnologies that contr ibut es to a wide ar ra y of economic, environmental and societal \\nbenefits across the entire spectr um of industr ies and social activities. By imp roving prediction, optimising operations \\nand resource allocation, and personalising digital solutions ava ilable f or individuals and org anisations, the use of AI \\ncan provide k ey comp etitive\\n\\nAI systems, as well as to g ain awareness about the oppor tunities and r isks of AI and possible har m it can cause;\\nOJ L, 12.7.2024\\nEN\\nELI: http://data.europa.eu/eli/reg/2024/1689/oj 49/144\\n\\nof fundamental r ights.\\n(119) Consider ing the quick pace of inno vation and the te chnologi cal evolution of digital ser vices in scope of different \\ninstr uments of Uni on law in par ticular hav ing in mind the usage and the percep tion of their recipients, the AI \\nsyste ms subject to this Regulation ma y be provid ed as interm ediar y ser vices or par ts thereof within the meaning of \\nRegulation (EU) 2022/2065, which should be inter prete d in a te chnology-neutral manner . For exam ple, AI\\n\\ninto account the European Declaration on Digital Rights and Pr inciples f or the Digital Decade and the \\nEthics guidelines f or tr ustw or th y AI of the High-Level Exper t Group on Ar tif icial Intellig ence (AI HLEG).\\n(8) A Union lega l framew ork la ying do wn har monised r ules on AI is theref ore needed to f oster the development, use \\nand up take of AI in the inter nal marke t that at the same time meets a high level of protect ion of public interests, such \\nas health and saf ety and the\\n\\nand review \\nexper ience gained from the use of AI systems they place on the marke t or put into ser vice f or the pur pose of \\nidentifying any need to immediate ly apply any necessar y cor rective or preventive actions;\\n(26) ‘marke t sur veillance author ity’ means the national author ity car r ying out the activities and taking the measures \\npursuant to Regulation (EU) 2019/1020;\\nOJ L, 12.7.2024\\nEN\\nELI: http://data.europa.eu/eli/reg/2024/1689/oj 47/144\\n\\nQuestion: Is a sentiment analysis tool considered an AI under the EU AI Act?\\n\\nAnswer:'},\n",
       " {'role': 'assistant',\n",
       "  'content': \"I don't know. The necessary information is not found in the provided context.\"}]"
      ]
     },
     "execution_count": 19,
     "metadata": {},
     "output_type": "execute_result"
    }
   ],
   "source": [
    "chat.get_history()"
   ]
  }
 ],
 "metadata": {
  "kernelspec": {
   "display_name": "Python 3",
   "language": "python",
   "name": "python3"
  },
  "language_info": {
   "codemirror_mode": {
    "name": "ipython",
    "version": 3
   },
   "file_extension": ".py",
   "mimetype": "text/x-python",
   "name": "python",
   "nbconvert_exporter": "python",
   "pygments_lexer": "ipython3",
   "version": "3.10.18"
  }
 },
 "nbformat": 4,
 "nbformat_minor": 5
}
